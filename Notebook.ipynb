{
 "cells": [
  {
   "cell_type": "markdown",
   "metadata": {},
   "source": [
    "# Como saber se um cogumelo é comestível?\n",
    "## Feito por: \n",
    "**André Costa e Guilherme Aranha**"
   ]
  },
  {
   "cell_type": "markdown",
   "metadata": {},
   "source": [
    "## Introdução\n",
    "É senso comum que cogumelos podem ser uma boa fonte de proteina para alimentação, mas sempre quando encotramos um, nunca sabemos se é possivel come-lo ou se ele pode apresentar riscos a sua saude tendo algum tipo de veneno. Assim, decidimos encontrar alguma base de dados com vairos cogumelos catalogados com suas caracteristicas fisicas e tambem se ele possui veneno ou nao."
   ]
  },
  {
   "cell_type": "code",
   "execution_count": 45,
   "metadata": {},
   "outputs": [],
   "source": [
    "#todas as bibliotecas que vamos utilizar nesse notebook\n",
    "import pandas as pd\n",
    "import matplotlib.pyplot as plt\n",
    "from sklearn import linear_model, metrics, ensemble, naive_bayes, model_selection"
   ]
  },
  {
   "cell_type": "markdown",
   "metadata": {},
   "source": [
    "*A base de dados que vamos utilizar foi encontrada no site Kraggle, sendo um arquivo csv com varios cogumelos catalogados\n",
    "link:https://www.kaggle.com/uciml/mushroom-classification*"
   ]
  },
  {
   "cell_type": "code",
   "execution_count": null,
   "metadata": {},
   "outputs": [],
   "source": [
    "#importand a planilha \n",
    "data = pd.read_csv(\"mushrooms.csv\") \n",
    "data.head()"
   ]
  },
  {
   "cell_type": "markdown",
   "metadata": {},
   "source": [
    "Como podemos observar, a planilha esta escrita em ingles, e os elementos delas estao apenas com as iniciais de seu significado.\n",
    "Assim, para poder facilitar a manipulação dos dados, decidimos mudar ela para portugues e escrever por inteiro seus elementos"
   ]
  },
  {
   "cell_type": "code",
   "execution_count": null,
   "metadata": {},
   "outputs": [],
   "source": [
    "data_clean = data\n",
    "\n",
    "#alterando os titulos para portugues\n",
    "colunas = {\n",
    "    'class': 'tipo',\n",
    "    'cap-shape': 'formato-do-chapeu',\n",
    "    'cap-surface': 'superficie-do-chapeu',\n",
    "    'cap-color': 'cor-do-chapeu',\n",
    "    'bruises': 'marcas',\n",
    "    'odor': 'cheiro',\n",
    "    'gill-attachment': 'anexos-do-himenio',\n",
    "    'gill-spacing': 'espacamento-do-himenio',\n",
    "    'gill-size': 'tamanho-do-himenio',\n",
    "    'gill-color': 'cor-do-himenio',\n",
    "    'stalk-shape': 'formato-do-estipe',\n",
    "    'stalk-root': 'raiz-do-estipe',\n",
    "    'stalk-surface-above-ring': 'superficie-do-estipe-acima-do-anel',\n",
    "    'stalk-surface-below-ring': 'superficie-do-estipe-abaixo-do-anel',\n",
    "    'stalk-color-above-ring': 'cor-do-estipe-acima-do-anel',\n",
    "    'stalk-color-below-ring': 'cor-do-estipe-abaixo-do-anel',\n",
    "    'veil-type': 'tipo-do-veu',\n",
    "    'veil-color': 'cor-do-veu',\n",
    "    'ring-number': 'numero-de-aneis',\n",
    "    'ring-type': 'tipo-do-anel',\n",
    "    'spore-print-color': 'cor-da-esporada',\n",
    "    'population': 'populacao',\n",
    "    'habitat': 'habitat',\n",
    "    }\n",
    "\n",
    "data_clean = data_clean.rename(columns=colunas)\n",
    "\n",
    "del data_clean['tipo-do-veu'] # <--- só tem um tipo, assim decidimos remover pois essa coluna nao agregaria nada no algoritmo\n",
    "\n",
    "data_clean.head()"
   ]
  },
  {
   "cell_type": "code",
   "execution_count": null,
   "metadata": {},
   "outputs": [],
   "source": [
    "#alterando os valores para portugues\n",
    "valores = {\n",
    "    'tipo': {'p': 'venenoso','e': 'comestivel',},\n",
    "    'formato-do-chapeu': {'x': 'convexo','b': 'sino','s': 'afundado','f': 'plano','k': 'nodoso','c': 'conico',},\n",
    "    'superficie-do-chapeu': {'s': 'lisa','y': 'escamoso','f': 'fibroso','g': 'ranhuras',},\n",
    "    'cor-do-chapeu': {'n': 'marrom','y': 'amarelo','w': 'branco','g': 'cinza','e': 'vermelho','p': 'rosa','b': 'couro','u': 'roxo','c': 'canela','r': 'verde',},\n",
    "    'marcas': {'t': 'sim','f': 'nao',},\n",
    "    'cheiro': {'p': 'pungente','a': 'almondega','l': 'anis','n': 'nenhum','f': 'fedorento','c': 'queimado','y': 'peixe','s': 'apimentado','m': 'mofo',},\n",
    "    'anexos-do-himenio': {'f': 'sem','a': 'com',},\n",
    "    'espacamento-do-himenio': {'c': 'medio','w': 'perto',},\n",
    "    'tamanho-do-himenio': {'n': 'pequeno','b': 'grande',},\n",
    "    'cor-do-himenio': {'k': 'preto','n': 'marrom','g': 'cinza','p': 'rosa','w': 'branco','h': 'chocolate','u': 'roxo','e': 'vermelho','b': 'couro','r': 'verde','y': 'amarelo','o': 'laranja',},\n",
    "    'formato-do-estipe': {'e': 'alargando','t': 'afunilando',},\n",
    "    'raiz-do-estipe': {'e': 'igual','c': 'bastao','b': 'bulbo','r': 'enraizado','?': 'faltando',},\n",
    "    'superficie-do-estipe-acima-do-anel': {'s': 'lisa','f': 'fibrosa','k': 'sedosa','y': 'escamosa',},\n",
    "    'superficie-do-estipe-abaixo-do-anel': {'s': 'lisa','f': 'fibrosa','y': 'escamosa','k': 'sedosa',},\n",
    "    'cor-do-estipe-acima-do-anel': {'w': 'branco','g': 'cinza','p': 'rosa','n': 'marrom','b': 'couro','e': 'vermelho','o': 'laranja','c': 'canela','y': 'amarelo',},\n",
    "    'cor-do-estipe-abaixo-do-anel': {'w': 'branco','p': 'rosa','g': 'cinza','b': 'couro','n': 'marrom','e': 'vermelho','y': 'amarelo','o': 'laranja','c': 'canela',},\n",
    "    'cor-do-veu': {'w': 'branco','n': 'marrom','o': 'laranja','y': 'amarelo',},\n",
    "    'numero-de-aneis': {'o': '1','t': '2','n': '0',},\n",
    "    'tipo-do-anel': {'p': 'pingente','e': 'evanescente','l': 'largo','f': 'resplandecente','n': 'nenhum',},\n",
    "    'cor-da-esporada': {'k': 'preto','n': 'marrom','u': 'roxo','h': 'chocolate','w': 'branco','r': 'verde','o': 'laranja','y': 'amarelo','b': 'couro',},\n",
    "    'populacao': {'s': 'espalhado','n': 'numeroso','a': 'abundante','v': 'varios','y': 'solitario','c': 'agrupados',},\n",
    "    'habitat': {'u': 'urbano','g': 'grama','m': 'prado','d': 'floresta','p': 'caminhos','w': 'lixo','l': 'folhas',}\n",
    "}\n",
    "\n",
    "data_clean = data_clean.replace(valores)\n",
    "data_clean.head()"
   ]
  },
  {
   "cell_type": "markdown",
   "metadata": {},
   "source": [
    "Agora que a planilha já esta organizada e em portugues, vamos checar se existe algum cogumelo com as mesmas caracteristicas"
   ]
  },
  {
   "cell_type": "code",
   "execution_count": null,
   "metadata": {},
   "outputs": [],
   "source": [
    "'Todos os cogumelos da lista: {} Cogumelos sem repetição: {}'.format(len(data_clean.index),len(data_clean.drop_duplicates().index))"
   ]
  },
  {
   "cell_type": "markdown",
   "metadata": {},
   "source": [
    "Bom com isso sabemos que não existe nenhum cogumelo com as mesmas características na lista, portanto, todos eles sao únicos.\n",
    "Assim, seria possivel fazer uma boa previsão se ele seria comestivel ou venenoso ja que não existe cogumelos com características iguais e resultados diferentes (comestivel ou venenoso).\n",
    "Agora vamos observar as porcentagem de cada caracteristica no nosso dataset:"
   ]
  },
  {
   "cell_type": "code",
   "execution_count": null,
   "metadata": {},
   "outputs": [],
   "source": [
    "i = 0 #posição do subplot\n",
    "f = plt.figure(figsize=(20, 50)) #tamanho do subplot\n",
    "for coluna in data_clean:\n",
    "    i += 1\n",
    "    plot = f.add_subplot(11, 2, i)\n",
    "    plot.bar(data_clean[coluna].value_counts().index,data_clean[coluna].value_counts(normalize=True))\n",
    "    plt.title(coluna)\n",
    "plt.show()\n"
   ]
  },
  {
   "cell_type": "markdown",
   "metadata": {},
   "source": [
    "Com isso reparamos que a distribuição entre cogumelos venenosos e comestiveis muito proxima, o que vai nos ajudar nas proximas etapas do trabalho pois esta bem equilibrado. Tambem reparamos que dentro de uma dominio, existem algumas caracteristicas que dominam como por exemplo a grande maioria dos cogumelos possuem anexos do himenio.\n",
    "Vamos observar a distribuição entre cogumelos venenosos e comestiveis mais claramente:\n"
   ]
  },
  {
   "cell_type": "code",
   "execution_count": null,
   "metadata": {},
   "outputs": [],
   "source": [
    "data_clean['tipo'].value_counts(normalize=True)"
   ]
  },
  {
   "cell_type": "markdown",
   "metadata": {},
   "source": [
    "Assim, sabemos que nosso modelo previsivel deve ter uma taxa de acerto maior que 52%, ja que caso foi menor que isso, nosso modelo pode ser descartado."
   ]
  },
  {
   "cell_type": "markdown",
   "metadata": {},
   "source": [
    "Vamos invetigar agora a porcentagem de cogumelos venenosos e comestiveis por característica:"
   ]
  },
  {
   "cell_type": "code",
   "execution_count": null,
   "metadata": {},
   "outputs": [],
   "source": [
    "for coluna in data_clean.drop(columns=['tipo']):\n",
    "    pd.crosstab(index=data_clean[coluna], columns=data_clean['tipo'], normalize='columns').plot.bar()\n",
    "    plt.title(coluna)\n",
    "plt.show()"
   ]
  },
  {
   "cell_type": "markdown",
   "metadata": {},
   "source": [
    "Concluimos a partir desses graficos que existem várias características diretamente relacionadas ao tipo de cogumelo. Chama expecial atenção o cheiro: se o cogumelo tiver algum cheiro, é possivel identificar se ele é venenoso a partir apenas dessa característica"
   ]
  },
  {
   "cell_type": "markdown",
   "metadata": {},
   "source": [
    "Para criar nosso modelo, decidimos por fazer uma regressao logistica. Assim precisamos transformar todas nossas variaveis que sao qualitativas em quantitativas com ajuda da função get_dummies do pandas."
   ]
  },
  {
   "cell_type": "code",
   "execution_count": null,
   "metadata": {},
   "outputs": [],
   "source": [
    "data_clean_dummies = pd.get_dummies(data_clean)"
   ]
  },
  {
   "cell_type": "code",
   "execution_count": null,
   "metadata": {
    "scrolled": true
   },
   "outputs": [],
   "source": [
    "data_clean_dummies.head()"
   ]
  },
  {
   "cell_type": "markdown",
   "metadata": {},
   "source": [
    "Como nossas variaveis ja estao no formato quantitavo para poder implementar nosso modelo, separamos nossos dados em 2 datasets com o intuito de usar um deles para treinar nosso modelo e outro para verificar a proeficiencia do nosso modelo."
   ]
  },
  {
   "cell_type": "code",
   "execution_count": null,
   "metadata": {},
   "outputs": [],
   "source": [
    "razao = 0.6 #razao é o tamanho do treino, 1-razao é o tamanho do teste\n",
    "corte = int(razao*data_clean_dummies.shape[0])\n",
    "data_treino = data_clean_dummies.iloc[:corte,:]\n",
    "data_teste = data_clean_dummies.iloc[corte:,:]"
   ]
  },
  {
   "cell_type": "code",
   "execution_count": null,
   "metadata": {},
   "outputs": [],
   "source": [
    "X_treino = data_treino.drop(columns=[\"tipo_comestivel\", \"tipo_venenoso\"])\n",
    "y_treino = data_treino['tipo_comestivel']\n",
    "X_teste = data_teste.drop(columns=[\"tipo_comestivel\", \"tipo_venenoso\"])\n",
    "y_teste = data_teste['tipo_comestivel']"
   ]
  },
  {
   "cell_type": "markdown",
   "metadata": {},
   "source": [
    "Desta forma, decidimos implementar 3 classificadores diferentes para analizar suas respostas, sendo eles o Random Forest, a regressao logistica e o Naive Bayes.\n",
    "\n",
    "Optamos pelo Random Forest por ser um algoritmo relativamente simples de configurar, porem apresenta valores interessantes.\n",
    "Esse nome surge pelo fato que o algorimo é um conjunto de arvores de decisao, com cada uma relativamente diferente do outro.\n",
    "As arvores de decisao criam um fluxograma com condiçoes dos valores das variaveis indepentes, assim elas vao seguindo um ramo ate chegar em um resultado esperado (que no nosso caso seria comestivel = 1 e venenoso = 0). Como cada arvore é diferente uma da outra,o valor retornado da maioria das arvores seria o do nosso modelo. \n",
    "\n",
    "A regressao logistica seria a construção de uma função logistica que separaria os valores do grafico entre a variavel dependente e indepentente para prever o resultado do modelo (no nosso caso comestivel ou venenoso) pela posição do ponto no grafico. Assim ela é identica a uma regressao linear, mudando apenas o formato da função.\n",
    "\n",
    "O Naive Bayes calcula caracterisitca por caracteristica para saber sua porcenntagem dela ser comestivel ou venenoso, assim apos fazer a multiplicação de todos esses valores para todas as caracterisitcas, ele nos informa qual classificação o nosso cogumelo tem mais chance de ser (no nosso caso venenoso ou comestivel). "
   ]
  },
  {
   "cell_type": "markdown",
   "metadata": {},
   "source": [
    "De todos esses modelos, a Random Forest possui alguns valores que alteram seu resultado. Para tornar o projeto simples, decidimos apenas modificar a quantidade de arvores geradas pelo modelo. \n",
    "Para isso vamos utilizar a validação cruzada, que testa o modelo com os diferentes numeros de arvores encontradas no dicionario dos parametros."
   ]
  },
  {
   "cell_type": "code",
   "execution_count": 81,
   "metadata": {},
   "outputs": [
    {
     "data": {
      "text/plain": [
       "RandomForestClassifier(bootstrap=True, class_weight=None, criterion='gini',\n",
       "                       max_depth=None, max_features='auto', max_leaf_nodes=None,\n",
       "                       min_impurity_decrease=0.0, min_impurity_split=None,\n",
       "                       min_samples_leaf=1, min_samples_split=2,\n",
       "                       min_weight_fraction_leaf=0.0, n_estimators=120,\n",
       "                       n_jobs=None, oob_score=False, random_state=None,\n",
       "                       verbose=0, warm_start=False)"
      ]
     },
     "execution_count": 81,
     "metadata": {},
     "output_type": "execute_result"
    }
   ],
   "source": [
    "parametros = {\n",
    "    'n_estimators': [10,30,50,70,100,120,150,200]\n",
    "}\n",
    "\n",
    "random_forest_cv = model_selection.GridSearchCV(ensemble.RandomForestClassifier(), param_grid=parametros, cv=50)\n",
    "random_forest = random_forest_cv.fit(X_treino,y_treino)\n",
    "random_forest.best_estimator_"
   ]
  },
  {
   "cell_type": "markdown",
   "metadata": {},
   "source": [
    "Colocamos o cv do GridSearchCV alto no intuito de diminuir a variancia do resultado (ja que a random forest é um modelo randomico). E com isso percebemos que em geral, nosso modelo alcança os melhores resultados com apenas 120 arvores.\n",
    "\n",
    "A partir disso, montamos os 3 algoritimos para analizar seus resultados a seguir"
   ]
  },
  {
   "cell_type": "code",
   "execution_count": 82,
   "metadata": {
    "scrolled": true
   },
   "outputs": [
    {
     "name": "stdout",
     "output_type": "stream",
     "text": [
      ">>> RandomForestClassifier(bootstrap=True, class_weight=None, criterion='gini',\n",
      "                       max_depth=None, max_features='auto', max_leaf_nodes=None,\n",
      "                       min_impurity_decrease=0.0, min_impurity_split=None,\n",
      "                       min_samples_leaf=1, min_samples_split=2,\n",
      "                       min_weight_fraction_leaf=0.0, n_estimators=120,\n",
      "                       n_jobs=None, oob_score=False, random_state=None,\n",
      "                       verbose=0, warm_start=False):\n",
      "\n",
      "acertos: 3149 // erros: 101 // %: 96.89230769230768\n"
     ]
    },
    {
     "data": {
      "text/html": [
       "<div>\n",
       "<style scoped>\n",
       "    .dataframe tbody tr th:only-of-type {\n",
       "        vertical-align: middle;\n",
       "    }\n",
       "\n",
       "    .dataframe tbody tr th {\n",
       "        vertical-align: top;\n",
       "    }\n",
       "\n",
       "    .dataframe thead th {\n",
       "        text-align: right;\n",
       "    }\n",
       "</style>\n",
       "<table border=\"1\" class=\"dataframe\">\n",
       "  <thead>\n",
       "    <tr style=\"text-align: right;\">\n",
       "      <th>é comestivel:</th>\n",
       "      <th>0</th>\n",
       "      <th>1</th>\n",
       "    </tr>\n",
       "    <tr>\n",
       "      <th>predição:</th>\n",
       "      <th></th>\n",
       "      <th></th>\n",
       "    </tr>\n",
       "  </thead>\n",
       "  <tbody>\n",
       "    <tr>\n",
       "      <td>0</td>\n",
       "      <td>2459</td>\n",
       "      <td>93</td>\n",
       "    </tr>\n",
       "    <tr>\n",
       "      <td>1</td>\n",
       "      <td>8</td>\n",
       "      <td>690</td>\n",
       "    </tr>\n",
       "  </tbody>\n",
       "</table>\n",
       "</div>"
      ],
      "text/plain": [
       "é comestivel:     0    1\n",
       "predição:               \n",
       "0              2459   93\n",
       "1                 8  690"
      ]
     },
     "metadata": {},
     "output_type": "display_data"
    },
    {
     "name": "stdout",
     "output_type": "stream",
     "text": [
      ">>> LogisticRegression(C=1.0, class_weight=None, dual=False, fit_intercept=True,\n",
      "                   intercept_scaling=1, l1_ratio=None, max_iter=100,\n",
      "                   multi_class='warn', n_jobs=None, penalty='l2',\n",
      "                   random_state=None, solver='warn', tol=0.0001, verbose=0,\n",
      "                   warm_start=False):\n",
      "\n",
      "acertos: 3131 // erros: 119 // %: 96.33846153846154\n"
     ]
    },
    {
     "name": "stderr",
     "output_type": "stream",
     "text": [
      "D:\\comp\\anaconda\\lib\\site-packages\\sklearn\\linear_model\\logistic.py:432: FutureWarning: Default solver will be changed to 'lbfgs' in 0.22. Specify a solver to silence this warning.\n",
      "  FutureWarning)\n"
     ]
    },
    {
     "data": {
      "text/html": [
       "<div>\n",
       "<style scoped>\n",
       "    .dataframe tbody tr th:only-of-type {\n",
       "        vertical-align: middle;\n",
       "    }\n",
       "\n",
       "    .dataframe tbody tr th {\n",
       "        vertical-align: top;\n",
       "    }\n",
       "\n",
       "    .dataframe thead th {\n",
       "        text-align: right;\n",
       "    }\n",
       "</style>\n",
       "<table border=\"1\" class=\"dataframe\">\n",
       "  <thead>\n",
       "    <tr style=\"text-align: right;\">\n",
       "      <th>é comestivel:</th>\n",
       "      <th>0</th>\n",
       "      <th>1</th>\n",
       "    </tr>\n",
       "    <tr>\n",
       "      <th>predição:</th>\n",
       "      <th></th>\n",
       "      <th></th>\n",
       "    </tr>\n",
       "  </thead>\n",
       "  <tbody>\n",
       "    <tr>\n",
       "      <td>0</td>\n",
       "      <td>2447</td>\n",
       "      <td>99</td>\n",
       "    </tr>\n",
       "    <tr>\n",
       "      <td>1</td>\n",
       "      <td>20</td>\n",
       "      <td>684</td>\n",
       "    </tr>\n",
       "  </tbody>\n",
       "</table>\n",
       "</div>"
      ],
      "text/plain": [
       "é comestivel:     0    1\n",
       "predição:               \n",
       "0              2447   99\n",
       "1                20  684"
      ]
     },
     "metadata": {},
     "output_type": "display_data"
    },
    {
     "name": "stdout",
     "output_type": "stream",
     "text": [
      ">>> GaussianNB(priors=None, var_smoothing=1e-09):\n",
      "\n",
      "acertos: 2913 // erros: 337 // %: 89.63076923076923\n"
     ]
    },
    {
     "data": {
      "text/html": [
       "<div>\n",
       "<style scoped>\n",
       "    .dataframe tbody tr th:only-of-type {\n",
       "        vertical-align: middle;\n",
       "    }\n",
       "\n",
       "    .dataframe tbody tr th {\n",
       "        vertical-align: top;\n",
       "    }\n",
       "\n",
       "    .dataframe thead th {\n",
       "        text-align: right;\n",
       "    }\n",
       "</style>\n",
       "<table border=\"1\" class=\"dataframe\">\n",
       "  <thead>\n",
       "    <tr style=\"text-align: right;\">\n",
       "      <th>é comestivel:</th>\n",
       "      <th>0</th>\n",
       "      <th>1</th>\n",
       "    </tr>\n",
       "    <tr>\n",
       "      <th>predição:</th>\n",
       "      <th></th>\n",
       "      <th></th>\n",
       "    </tr>\n",
       "  </thead>\n",
       "  <tbody>\n",
       "    <tr>\n",
       "      <td>0</td>\n",
       "      <td>2416</td>\n",
       "      <td>286</td>\n",
       "    </tr>\n",
       "    <tr>\n",
       "      <td>1</td>\n",
       "      <td>51</td>\n",
       "      <td>497</td>\n",
       "    </tr>\n",
       "  </tbody>\n",
       "</table>\n",
       "</div>"
      ],
      "text/plain": [
       "é comestivel:     0    1\n",
       "predição:               \n",
       "0              2416  286\n",
       "1                51  497"
      ]
     },
     "metadata": {},
     "output_type": "display_data"
    }
   ],
   "source": [
    "metodos = [ensemble.RandomForestClassifier(n_estimators=120), linear_model.LogisticRegression(), naive_bayes.GaussianNB()]\n",
    "\n",
    "for i in metodos:\n",
    "\n",
    "    model = i\n",
    "    model.fit(X_treino, y_treino)\n",
    "\n",
    "    ypred = model.predict(X_teste)\n",
    "\n",
    "    resultado = pd.crosstab(ypred, y_teste, rownames=['predição:'], colnames=['é comestivel:'])\n",
    "    acertos = resultado[0][0] + resultado[1][1]\n",
    "    erros = resultado[0][1] + resultado[1][0]\n",
    "    porcentagem = acertos/(acertos + erros)*100\n",
    "    \n",
    "    print('>>> ' + repr(i) + ':\\n')\n",
    "    print(f\"acertos: {acertos} // erros: {erros} // %: {porcentagem}\")\n",
    "    display(resultado)"
   ]
  },
  {
   "cell_type": "markdown",
   "metadata": {},
   "source": [
    "Pelos resultados, todos os nossos modelos superaram seu benchmark (a porcentagem de cogumelos comestiveis na base de dados, 51.8%)\n",
    "\n",
    "Todos os erros dos modelos tiveram peso maior nos falsos negativos, que no nosso caso é um motivo bom pois mais vale a classificação de um cogumelo como venenoso sendo ele comestivel do que ao contrario, pois isso poderia colocar em risco de morte.\n",
    "\n",
    "Sendo de todos eles o melhor o Random Forest, porem seu grande problema é que por ser randomico, assim sua acuracia varia a cada teste, e nao conseguimos interpretar o modelo de decisao do algoritimo para entender seu funcionamento\n",
    "\n",
    "Em Segundo Lugar foi a Regressao logistia, com aproximadamente 96% de acuracia. Apesar de nao ser o melhor, trouxe resultados bem proximos e sua vantagem é que podemos entender como o algoritmo esta classificando para possiveis melhoras caso precisamos ser mais preciso.\n",
    "\n",
    "Em terceiro lugar foi o Naive Bayes, com aproximadamente 89% de acuracia. Isso era esperado pois para o Naive Bayes chegar em resultados interessantes, é preciso ter uma base de dados de treinamento bastante ampla, que nao era nosso caso. "
   ]
  },
  {
   "cell_type": "markdown",
   "metadata": {},
   "source": [
    "Assim, o problema de nossos modelos é que todos eles tentam classificar os cogumelos, mesmo que o resultado nao seja muito preciso. Isso no noso caso pode resultar em uma morte por um falso positivo. \n",
    "Alem disso, nossos modelos precisam de um computador ou matematica relativamente avançada para a classificação de um cogumelo, coisa que seria melhor nao depender caso alguem precise comer um cogumelo ou nao.\n",
    "Levando tudo isso em conta, pretendemos apresentar nosso ultimo modelo que tem o intuito de fazer uma arvore de decisao que tenha muita precisao para saber se é possivel comer um cogumelo ou nao. (tudo isso utilizando a nosso base de dados, assim ainda estamos sujeito a teoria do cisne negro)\n"
   ]
  },
  {
   "cell_type": "markdown",
   "metadata": {},
   "source": [
    "Para isso, vamos separar novamente a quantidade de cogumelos de cada caracteristica, para saber quantos sao venenosos e comestiveis"
   ]
  },
  {
   "cell_type": "code",
   "execution_count": null,
   "metadata": {},
   "outputs": [],
   "source": [
    "for coluna in data_clean.drop(columns=['tipo']):\n",
    "    display(pd.crosstab(index=data_clean[coluna], columns=data_clean['tipo']))\n"
   ]
  },
  {
   "cell_type": "markdown",
   "metadata": {},
   "source": [
    "Com isso, conseguimos observar que existem apenas cogumelos com um tipo para certas caracteristicas, como por exemplo, so existe cogumelos comestiveis para cogumelos com o chapeu afundado.\n",
    "Assim conseguimos saber que se um novo cogumelo tiver o chapeu afundado, sua maior probabilidade é que ele seja comestivel.\n",
    "Desta forma, consegumos montar uma lista de todas as caracterisitcas que caso um cogumelo tenho, torna sua probabilidade de ser comestivel muito alta ou ate mesmo venenoso."
   ]
  },
  {
   "cell_type": "code",
   "execution_count": null,
   "metadata": {},
   "outputs": [],
   "source": [
    "confirma_venenoso = {}\n",
    "confirma_comestivel = {}\n",
    "for coluna in data_clean.drop(columns=['tipo']):\n",
    "    for i in pd.crosstab(index=data_clean[coluna], columns=data_clean['tipo']).index:\n",
    "        if pd.crosstab(index=data_clean[coluna], columns=data_clean['tipo']).loc[i,'comestivel'] == 0:\n",
    "            confirma_venenoso.setdefault(coluna,[]).append(i)\n",
    "        if pd.crosstab(index=data_clean[coluna], columns=data_clean['tipo']).loc[i,'venenoso'] == 0:\n",
    "            confirma_comestivel.setdefault(coluna,[]).append(i)\n",
    "print(confirma_venenoso)\n",
    "print(confirma_comestivel)"
   ]
  },
  {
   "cell_type": "markdown",
   "metadata": {},
   "source": [
    "A partir dessas duas listas, podemos montar um modelo facil de entender que qualquer um poderia usar caso encontre um cogumelo, ja que basta comparar as caracteristicas desse cogumelo com das listas para saber se ele é comestivel ou nao.\n",
    "Agora vamos ao teste desse modelo para ver sua performance"
   ]
  },
  {
   "cell_type": "code",
   "execution_count": null,
   "metadata": {},
   "outputs": [],
   "source": [
    "esperado = data_clean.iloc[:,0]\n",
    "erros = []\n",
    "conta = [0,0] \n",
    "for i in data_clean.index:\n",
    "    result = ''\n",
    "    for linha,coluna in zip(data_clean.drop(columns=['tipo']).iloc[i,:],data_clean.drop(columns=['tipo']).columns):\n",
    "        if coluna in confirma_venenoso.keys():\n",
    "            if linha in confirma_venenoso[coluna]:\n",
    "                result = 'venenoso'\n",
    "        if coluna in confirma_comestivel.keys():\n",
    "            if linha in confirma_comestivel[coluna]:\n",
    "                result = 'comestivel'\n",
    "    if result == '':\n",
    "        erros += [i]\n",
    "    else:\n",
    "        if result == esperado[i]:\n",
    "            conta[0] += 1\n",
    "        else:\n",
    "            conta[1] += 1\n",
    "comestiveis_perdidos = 0\n",
    "for i in erros:\n",
    "    if data_clean.iloc[i,0] == 'comestivel':\n",
    "        comestiveis_perdidos += 1\n",
    "\n",
    "print(f'acertos: {conta[0]} // erros : {conta[1]} // nao conseguiu: {len(erros)} [{\"{:.2f}\".format(100*len(erros)/data_clean.shape[0])}%] // cogumelos comestiveis perdidos : {comestiveis_perdidos} [{\"{:.2f}\".format(100*comestiveis_perdidos/len(erros))}%]')"
   ]
  },
  {
   "cell_type": "markdown",
   "metadata": {},
   "source": [
    "Pelo resultado, percebemos que ele nao consegue classificar cerca de 18% dos cogumelos, porem como podemos observar, a grande maioria dos cogumelos que ele nao classifica sao comestiveis (98%), assim podemos ate assumir que caso um cogumelo nao entre em nenhuma das listas, é possivel assumir que ele é comestivel."
   ]
  },
  {
   "cell_type": "code",
   "execution_count": null,
   "metadata": {},
   "outputs": [],
   "source": [
    "esperado = data_clean.iloc[:,0]\n",
    "erros = []\n",
    "conta = [0,0] \n",
    "for i in data_clean.index:\n",
    "    result = ''\n",
    "    for linha,coluna in zip(data_clean.drop(columns=['tipo']).iloc[i,:],data_clean.drop(columns=['tipo']).columns):\n",
    "        if coluna in confirma_venenoso.keys():\n",
    "            if linha in confirma_venenoso[coluna]:\n",
    "                result = 'venenoso'\n",
    "    if result == '':\n",
    "        result = 'comestivel'\n",
    "    if result == esperado[i]:\n",
    "        conta[0] += 1\n",
    "    else:\n",
    "        conta[1] += 1\n",
    "\n",
    "print(f'acertos: {conta[0]} // erros : {conta[1]} [{\"{:.2f}\".format(100*conta[1]/data_clean.shape[0])}%]')"
   ]
  },
  {
   "cell_type": "markdown",
   "metadata": {},
   "source": [
    "Assim, conseguimos ver que o erro é bem pequeno do nosso modelo (0,23%) e como, na pratica, nao temos certeza se essas caracteristicas de fato confirmam se um cogumelo é venenoso ou nao, podendo sempre estar sugeito a teoria do cisne negro. Concluimos que esse modelo seria o mais preciso que poderiamos chegar, sendo bem mais intuitivo que os outros utilizados anteriormente. Assim, para saber se é possivel consumir um cogumelo, é so comparar suas caracteristicas com a da lista a seguir, e caso ele tenha alguma caracteristica, a probabilidade dele ser venenoso é alta. "
   ]
  },
  {
   "cell_type": "code",
   "execution_count": 83,
   "metadata": {},
   "outputs": [
    {
     "data": {
      "text/plain": [
       "{'formato-do-chapeu': ['conico'],\n",
       " 'superficie-do-chapeu': ['ranhuras'],\n",
       " 'cheiro': ['apimentado',\n",
       "  'fedorento',\n",
       "  'mofo',\n",
       "  'peixe',\n",
       "  'pungente',\n",
       "  'queimado'],\n",
       " 'cor-do-himenio': ['couro', 'verde'],\n",
       " 'cor-do-estipe-acima-do-anel': ['amarelo', 'canela', 'couro'],\n",
       " 'cor-do-estipe-abaixo-do-anel': ['amarelo', 'canela', 'couro'],\n",
       " 'cor-do-veu': ['amarelo'],\n",
       " 'numero-de-aneis': ['0'],\n",
       " 'tipo-do-anel': ['largo', 'nenhum'],\n",
       " 'cor-da-esporada': ['verde']}"
      ]
     },
     "execution_count": 83,
     "metadata": {},
     "output_type": "execute_result"
    }
   ],
   "source": [
    "confirma_venenoso"
   ]
  },
  {
   "cell_type": "code",
   "execution_count": null,
   "metadata": {},
   "outputs": [],
   "source": []
  }
 ],
 "metadata": {
  "kernelspec": {
   "display_name": "Python 3",
   "language": "python",
   "name": "python3"
  },
  "language_info": {
   "codemirror_mode": {
    "name": "ipython",
    "version": 3
   },
   "file_extension": ".py",
   "mimetype": "text/x-python",
   "name": "python",
   "nbconvert_exporter": "python",
   "pygments_lexer": "ipython3",
   "version": "3.7.4"
  }
 },
 "nbformat": 4,
 "nbformat_minor": 2
}
